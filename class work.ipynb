total_sum = 0

while True:
   user_input = input("Enter a number")
   if input== "done":
      print("total_sum")
      break
    
   try:
      num = int(user_input)
   except ValueError:
      print("Invalid report")
   if number < 0:
         print('enter a valid number',e)
         continue
   total_sum= number + total_sum
   print("total_sum")

   if total_sum > 100:
         print("cannot exceed 100")
         break
